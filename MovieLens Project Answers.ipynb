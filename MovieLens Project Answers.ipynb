{
 "cells": [
  {
   "cell_type": "markdown",
   "metadata": {},
   "source": [
    "### `Project - MovieLens Data Analysis`\n",
    "\n",
    "The GroupLens Research Project is a research group in the Department of Computer Science and Engineering at the University of Minnesota. The data is widely used for collaborative filtering and other filtering solutions. However, we will be using this data to act as a means to demonstrate our skill in using Python to “play” with data.\n",
    "\n",
    "\n",
    "### `Objective:`\n",
    "- To implement the techniques learnt as a part of the course.\n",
    "\n",
    "### `Learning Outcomes:`\n",
    "- Exploratory Data Analysis\n",
    "\n",
    "- Visualization using Python\n",
    "\n",
    "- Pandas – groupby, merging \n",
    "\n",
    "\n",
    "### `Domain` \n",
    "- Internet and Entertainment\n",
    "\n",
    "**Note that the project will need you to apply the concepts of groupby and merging extensively.**"
   ]
  },
  {
   "cell_type": "markdown",
   "metadata": {},
   "source": [
    "### `Datasets Information:`\n",
    "\n",
    "\n",
    "*rating.csv:* It contains information on ratings given by the users to a particular movie.\n",
    "- user id: id assigned to every user\n",
    "- movie id: id assigned to every movie\n",
    "- rating: rating given by the user\n",
    "- timestamp: Time recorded when the user gave a rating\n",
    "\n",
    "\n",
    "\n",
    "*movie.csv:* File contains information related to the movies and their genre.\n",
    "- movie id: id assigned to every movie\n",
    "- movie title: Title of the movie\n",
    "- release date: Date of release of the movie\n",
    "- Action: Genre containing binary values (1 - for action 0 - not action)\n",
    "- Adventure: Genre containing binary values (1 - for adventure 0 - not adventure)\n",
    "- Animation: Genre containing binary values (1 - for animation 0 - not animation)\n",
    "- Children’s: Genre containing binary values (1 - for children's 0 - not children's)\n",
    "- Comedy: Genre containing binary values (1 - for comedy 0 - not comedy)\n",
    "- Crime: Genre containing binary values (1 - for crime 0 - not crime)\n",
    "- Documentary: Genre containing binary values (1 - for documentary 0 - not documentary)\n",
    "- Drama: Genre containing binary values (1 - for drama 0 - not drama)\n",
    "- Fantasy: Genre containing binary values (1 - for fantasy 0 - not fantasy)\n",
    "- Film-Noir: Genre containing binary values (1 - for film-noir 0 - not film-noir)\n",
    "- Horror: Genre containing binary values (1 - for horror 0 - not horror)\n",
    "- Musical: Genre containing binary values (1 - for musical 0 - not musical)\n",
    "- Mystery: Genre containing binary values (1 - for mystery 0 - not mystery)\n",
    "- Romance: Genre containing binary values (1 - for romance 0 - not romance)\n",
    "- Sci-Fi: Genre containing binary values (1 - for sci-fi 0 - not sci-fi)\n",
    "- Thriller: Genre containing binary values (1 - for thriller 0 - not thriller)\n",
    "- War: Genre containing binary values (1 - for war 0 - not war)\n",
    "- Western: Genre containing binary values (1 - for western - not western)\n",
    "\n",
    "\n",
    "\n",
    "*user.csv:* It contains information of the users who have rated the movies.\n",
    "- user id: id assigned to every user\n",
    "- age: Age of the user\n",
    "- gender: Gender of the user\n",
    "- occupation: Occupation of the user\n",
    "- zip code: Zip code of the use\n",
    "\n",
    "\n",
    "**`Please provide you insights wherever necessary.`**"
   ]
  },
  {
   "cell_type": "markdown",
   "metadata": {},
   "source": [
    "### 1. Import the necessary packages - 2.5 marks"
   ]
  },
  {
   "cell_type": "code",
   "execution_count": 405,
   "metadata": {},
   "outputs": [],
   "source": [
    "#Import all the required libraries\n",
    "\n",
    "import pandas as pd\n",
    "import numpy as np\n",
    "import seaborn as sns\n",
    "import matplotlib.pyplot as plt\n",
    "sns.set(color_codes=True) # adds a nice background to the graphs\n",
    "%matplotlib inline "
   ]
  },
  {
   "cell_type": "markdown",
   "metadata": {},
   "source": [
    "### 2. Read the 3 datasets into dataframes - 2.5 marks"
   ]
  },
  {
   "cell_type": "code",
   "execution_count": 406,
   "metadata": {
    "scrolled": true
   },
   "outputs": [],
   "source": [
    "#read the data and import it in to a dataframe\n",
    "\n",
    "df_ratings = pd.read_csv(\"Data.csv\")\n",
    "df_movie = pd.read_csv(\"item.csv\")\n",
    "df_user = pd.read_csv(\"user.csv\")"
   ]
  },
  {
   "cell_type": "markdown",
   "metadata": {},
   "source": [
    "### 3. Apply info, shape, describe, and find the number of missing values in the data - 5 marks\n",
    " - Note that you will need to do it for all the three datasets seperately"
   ]
  },
  {
   "cell_type": "code",
   "execution_count": 407,
   "metadata": {},
   "outputs": [
    {
     "name": "stdout",
     "output_type": "stream",
     "text": [
      "====================== Rating info =====================================\n",
      " \n",
      "<class 'pandas.core.frame.DataFrame'>\n",
      "RangeIndex: 100000 entries, 0 to 99999\n",
      "Data columns (total 4 columns):\n",
      " #   Column     Non-Null Count   Dtype\n",
      "---  ------     --------------   -----\n",
      " 0   user id    100000 non-null  int64\n",
      " 1   movie id   100000 non-null  int64\n",
      " 2   rating     100000 non-null  int64\n",
      " 3   timestamp  100000 non-null  int64\n",
      "dtypes: int64(4)\n",
      "memory usage: 3.1 MB\n",
      " \n",
      "====================== Movie info ======================================\n",
      " \n",
      "<class 'pandas.core.frame.DataFrame'>\n",
      "RangeIndex: 1681 entries, 0 to 1680\n",
      "Data columns (total 22 columns):\n",
      " #   Column        Non-Null Count  Dtype \n",
      "---  ------        --------------  ----- \n",
      " 0   movie id      1681 non-null   int64 \n",
      " 1   movie title   1681 non-null   object\n",
      " 2   release date  1681 non-null   object\n",
      " 3   unknown       1681 non-null   int64 \n",
      " 4   Action        1681 non-null   int64 \n",
      " 5   Adventure     1681 non-null   int64 \n",
      " 6   Animation     1681 non-null   int64 \n",
      " 7   Childrens     1681 non-null   int64 \n",
      " 8   Comedy        1681 non-null   int64 \n",
      " 9   Crime         1681 non-null   int64 \n",
      " 10  Documentary   1681 non-null   int64 \n",
      " 11  Drama         1681 non-null   int64 \n",
      " 12  Fantasy       1681 non-null   int64 \n",
      " 13  Film-Noir     1681 non-null   int64 \n",
      " 14  Horror        1681 non-null   int64 \n",
      " 15  Musical       1681 non-null   int64 \n",
      " 16  Mystery       1681 non-null   int64 \n",
      " 17  Romance       1681 non-null   int64 \n",
      " 18  Sci-Fi        1681 non-null   int64 \n",
      " 19  Thriller      1681 non-null   int64 \n",
      " 20  War           1681 non-null   int64 \n",
      " 21  Western       1681 non-null   int64 \n",
      "dtypes: int64(20), object(2)\n",
      "memory usage: 289.0+ KB\n",
      " \n",
      "====================== User info =======================================\n",
      " \n",
      "<class 'pandas.core.frame.DataFrame'>\n",
      "RangeIndex: 943 entries, 0 to 942\n",
      "Data columns (total 5 columns):\n",
      " #   Column      Non-Null Count  Dtype \n",
      "---  ------      --------------  ----- \n",
      " 0   user id     943 non-null    int64 \n",
      " 1   age         943 non-null    int64 \n",
      " 2   gender      943 non-null    object\n",
      " 3   occupation  943 non-null    object\n",
      " 4   zip code    943 non-null    object\n",
      "dtypes: int64(2), object(3)\n",
      "memory usage: 37.0+ KB\n",
      " \n",
      "=========================================================================\n"
     ]
    }
   ],
   "source": [
    "# This method prints information about a DataFrame including the index dtype and columns, non-null values and memory usage.\n",
    "\n",
    "print(\"====================== Rating info =====================================\")\n",
    "print(\" \")\n",
    "df_ratings.info()   \n",
    "print(\" \")\n",
    "print(\"====================== Movie info ======================================\")\n",
    "print(\" \")\n",
    "df_movie.info()\n",
    "print(\" \")\n",
    "print(\"====================== User info =======================================\")\n",
    "print(\" \")\n",
    "df_user.info()\n",
    "print(\" \")\n",
    "print(\"=========================================================================\")\n",
    "# no null values found in any of the csv files"
   ]
  },
  {
   "cell_type": "code",
   "execution_count": 408,
   "metadata": {},
   "outputs": [
    {
     "name": "stdout",
     "output_type": "stream",
     "text": [
      "====================== Rating table dimensions =====================================\n",
      " \n",
      "(100000, 4)\n",
      " \n",
      "====================== Movie table dimensions ======================================\n",
      " \n",
      "(1681, 22)\n",
      " \n",
      "====================== User table dimensions =======================================\n",
      " \n",
      "(943, 5)\n",
      " \n",
      "====================================================================================\n"
     ]
    }
   ],
   "source": [
    "# Shape function returns a tuple representing the dimensionality of the DataFrame.\n",
    "\n",
    "print(\"====================== Rating table dimensions =====================================\")\n",
    "print(\" \")\n",
    "ratings_shape = df_ratings.shape\n",
    "print(ratings_shape)\n",
    "print(\" \")\n",
    "print(\"====================== Movie table dimensions ======================================\")\n",
    "print(\" \")\n",
    "movie_shape = df_movie.shape\n",
    "print(movie_shape)\n",
    "print(\" \")\n",
    "print(\"====================== User table dimensions =======================================\")\n",
    "print(\" \")\n",
    "user_shape = df_user.shape\n",
    "print(user_shape)\n",
    "print(\" \")\n",
    "print(\"====================================================================================\")"
   ]
  },
  {
   "cell_type": "code",
   "execution_count": 409,
   "metadata": {},
   "outputs": [
    {
     "name": "stdout",
     "output_type": "stream",
     "text": [
      "====================== Rating table dimensions =====================================\n",
      " \n",
      "            user id       movie id         rating     timestamp\n",
      "count  100000.00000  100000.000000  100000.000000  1.000000e+05\n",
      "mean      462.48475     425.530130       3.529860  8.835289e+08\n",
      "std       266.61442     330.798356       1.125674  5.343856e+06\n",
      "min         1.00000       1.000000       1.000000  8.747247e+08\n",
      "25%       254.00000     175.000000       3.000000  8.794487e+08\n",
      "50%       447.00000     322.000000       4.000000  8.828269e+08\n",
      "75%       682.00000     631.000000       4.000000  8.882600e+08\n",
      "max       943.00000    1682.000000       5.000000  8.932866e+08\n",
      " \n",
      "====================== Movie table dimensions ======================================\n",
      " \n",
      "          movie id      unknown       Action    Adventure    Animation  \\\n",
      "count  1681.000000  1681.000000  1681.000000  1681.000000  1681.000000   \n",
      "mean    841.841761     0.000595     0.149316     0.080309     0.024985   \n",
      "std     485.638077     0.024390     0.356506     0.271852     0.156126   \n",
      "min       1.000000     0.000000     0.000000     0.000000     0.000000   \n",
      "25%     422.000000     0.000000     0.000000     0.000000     0.000000   \n",
      "50%     842.000000     0.000000     0.000000     0.000000     0.000000   \n",
      "75%    1262.000000     0.000000     0.000000     0.000000     0.000000   \n",
      "max    1682.000000     1.000000     1.000000     1.000000     1.000000   \n",
      "\n",
      "         Childrens       Comedy        Crime  Documentary        Drama  \\\n",
      "count  1681.000000  1681.000000  1681.000000  1681.000000  1681.000000   \n",
      "mean      0.072576     0.300416     0.064842     0.029744     0.431291   \n",
      "std       0.259516     0.458576     0.246321     0.169931     0.495404   \n",
      "min       0.000000     0.000000     0.000000     0.000000     0.000000   \n",
      "25%       0.000000     0.000000     0.000000     0.000000     0.000000   \n",
      "50%       0.000000     0.000000     0.000000     0.000000     0.000000   \n",
      "75%       0.000000     1.000000     0.000000     0.000000     1.000000   \n",
      "max       1.000000     1.000000     1.000000     1.000000     1.000000   \n",
      "\n",
      "           Fantasy    Film-Noir       Horror      Musical      Mystery  \\\n",
      "count  1681.000000  1681.000000  1681.000000  1681.000000  1681.000000   \n",
      "mean      0.013087     0.014277     0.054729     0.033314     0.036288   \n",
      "std       0.113683     0.118667     0.227519     0.179507     0.187061   \n",
      "min       0.000000     0.000000     0.000000     0.000000     0.000000   \n",
      "25%       0.000000     0.000000     0.000000     0.000000     0.000000   \n",
      "50%       0.000000     0.000000     0.000000     0.000000     0.000000   \n",
      "75%       0.000000     0.000000     0.000000     0.000000     0.000000   \n",
      "max       1.000000     1.000000     1.000000     1.000000     1.000000   \n",
      "\n",
      "           Romance       Sci-Fi     Thriller          War      Western  \n",
      "count  1681.000000  1681.000000  1681.000000  1681.000000  1681.000000  \n",
      "mean      0.146936     0.060083     0.149316     0.042237     0.016062  \n",
      "std       0.354148     0.237712     0.356506     0.201189     0.125751  \n",
      "min       0.000000     0.000000     0.000000     0.000000     0.000000  \n",
      "25%       0.000000     0.000000     0.000000     0.000000     0.000000  \n",
      "50%       0.000000     0.000000     0.000000     0.000000     0.000000  \n",
      "75%       0.000000     0.000000     0.000000     0.000000     0.000000  \n",
      "max       1.000000     1.000000     1.000000     1.000000     1.000000  \n",
      " \n",
      "====================== User table dimensions =======================================\n",
      " \n",
      "          user id         age\n",
      "count  943.000000  943.000000\n",
      "mean   472.000000   34.051962\n",
      "std    272.364951   12.192740\n",
      "min      1.000000    7.000000\n",
      "25%    236.500000   25.000000\n",
      "50%    472.000000   31.000000\n",
      "75%    707.500000   43.000000\n",
      "max    943.000000   73.000000\n",
      " \n",
      "====================================================================================\n"
     ]
    }
   ],
   "source": [
    "print(\"====================== Rating table dimensions =====================================\")\n",
    "print(\" \")\n",
    "ratings_describe = df_ratings.describe()\n",
    "print(ratings_describe)\n",
    "print(\" \")\n",
    "print(\"====================== Movie table dimensions ======================================\")\n",
    "print(\" \")\n",
    "movie_describe = df_movie.describe()\n",
    "print(movie_describe)\n",
    "print(\" \")\n",
    "print(\"====================== User table dimensions =======================================\")\n",
    "print(\" \")\n",
    "user_describe = df_user.describe()\n",
    "print(user_describe)\n",
    "print(\" \")\n",
    "print(\"====================================================================================\")"
   ]
  },
  {
   "cell_type": "code",
   "execution_count": 410,
   "metadata": {},
   "outputs": [
    {
     "name": "stdout",
     "output_type": "stream",
     "text": [
      "====================== Rating table dimensions =====================================\n",
      " \n",
      "user id      0\n",
      "movie id     0\n",
      "rating       0\n",
      "timestamp    0\n",
      "dtype: int64\n",
      " \n",
      "====================== Movie table dimensions ======================================\n",
      " \n",
      "movie id        0\n",
      "movie title     0\n",
      "release date    0\n",
      "unknown         0\n",
      "Action          0\n",
      "Adventure       0\n",
      "Animation       0\n",
      "Childrens       0\n",
      "Comedy          0\n",
      "Crime           0\n",
      "Documentary     0\n",
      "Drama           0\n",
      "Fantasy         0\n",
      "Film-Noir       0\n",
      "Horror          0\n",
      "Musical         0\n",
      "Mystery         0\n",
      "Romance         0\n",
      "Sci-Fi          0\n",
      "Thriller        0\n",
      "War             0\n",
      "Western         0\n",
      "dtype: int64\n",
      " \n",
      "====================== User table dimensions =======================================\n",
      " \n",
      "user id       0\n",
      "age           0\n",
      "gender        0\n",
      "occupation    0\n",
      "zip code      0\n",
      "dtype: int64\n",
      " \n",
      "====================================================================================\n",
      " \n",
      "                    There is no missing values in this data\n",
      " \n",
      "====================================================================================\n"
     ]
    }
   ],
   "source": [
    "# Function used to detect the missing values\n",
    "\n",
    "print(\"====================== Rating table dimensions =====================================\")\n",
    "print(\" \")\n",
    "ratings_isnull = df_ratings.isna().sum()\n",
    "print(ratings_isnull)\n",
    "print(\" \")\n",
    "print(\"====================== Movie table dimensions ======================================\")\n",
    "print(\" \")\n",
    "movie_isnull = df_movie.isna().sum()\n",
    "print(movie_isnull)\n",
    "print(\" \")\n",
    "print(\"====================== User table dimensions =======================================\")\n",
    "print(\" \")\n",
    "user_isnull = df_user.isna().sum()\n",
    "print(user_isnull)\n",
    "print(\" \")\n",
    "print(\"====================================================================================\")\n",
    "print(\" \")\n",
    "print(\"                    There is no missing values in this data\")\n",
    "print(\" \")\n",
    "print(\"====================================================================================\")\n"
   ]
  },
  {
   "cell_type": "markdown",
   "metadata": {},
   "source": [
    "### 4. Find the number of movies per genre using the item data - 2.5 marks"
   ]
  },
  {
   "cell_type": "code",
   "execution_count": 411,
   "metadata": {
    "scrolled": true
   },
   "outputs": [
    {
     "name": "stdout",
     "output_type": "stream",
     "text": [
      "============================= Total Movies by Genre =======================================================\n",
      " \n",
      "unknown          1\n",
      "Action         251\n",
      "Adventure      135\n",
      "Animation       42\n",
      "Childrens      122\n",
      "Comedy         505\n",
      "Crime          109\n",
      "Documentary     50\n",
      "Drama          725\n",
      "Fantasy         22\n",
      "Film-Noir       24\n",
      "Horror          92\n",
      "Musical         56\n",
      "Mystery         61\n",
      "Romance        247\n",
      "Sci-Fi         101\n",
      "Thriller       251\n",
      "War             71\n",
      "Western         27\n",
      "dtype: int64\n",
      " \n",
      "===========================================================================================================\n"
     ]
    }
   ],
   "source": [
    "moviesByGenre = df_movie[['unknown','Action','Adventure','Animation','Childrens','Comedy','Crime','Documentary','Drama','Fantasy','Film-Noir','Horror','Musical','Mystery','Romance','Sci-Fi','Thriller','War','Western']]\n",
    "totMoviesByGenre = moviesByGenre.sum()\n",
    "\n",
    "print(\"============================= Total Movies by Genre =======================================================\")\n",
    "print(\" \")\n",
    "print(moviesByGenre.sum())\n",
    "print(\" \")\n",
    "print(\"===========================================================================================================\")"
   ]
  },
  {
   "cell_type": "markdown",
   "metadata": {},
   "source": [
    "### 5. Drop the movie where the genre is unknown - 2.5 marks"
   ]
  },
  {
   "cell_type": "code",
   "execution_count": 412,
   "metadata": {},
   "outputs": [
    {
     "name": "stdout",
     "output_type": "stream",
     "text": [
      "============================= Total Movies by Unknown Genre =======================================================\n",
      "0\n",
      "===================================================================================================================\n"
     ]
    }
   ],
   "source": [
    "# create a copy of df_movie\n",
    "\n",
    "df_movie_copy = df_movie.copy()\n",
    "\n",
    "#dropping the unknown genre\n",
    "dropUnknownGenre = df_movie_copy.drop(df_movie_copy[df_movie_copy['unknown']>0].index,inplace=True)\n",
    "\n",
    "#check if the drop worked\n",
    "moviesByUnknownGenre = df_movie_copy[['unknown']]\n",
    "totMoviesByUnknownGenre = moviesByUnknownGenre.sum()\n",
    "\n",
    "print(\"============================= Total Movies by Unknown Genre =======================================================\")\n",
    "print(totMoviesByUnknownGenre.sum())\n",
    "print(\"===================================================================================================================\")\n"
   ]
  },
  {
   "cell_type": "markdown",
   "metadata": {},
   "source": [
    "### 6. Find the movies that have more than one genre - 5 marks\n",
    "\n",
    "hint: use sum on the axis = 1\n",
    "\n",
    "Display movie name, number of genres for the movie in dataframe\n",
    "\n",
    "and also print(total number of movies which have more than one genres)"
   ]
  },
  {
   "cell_type": "code",
   "execution_count": 413,
   "metadata": {},
   "outputs": [
    {
     "name": "stdout",
     "output_type": "stream",
     "text": [
      "============================ Movie title & its genres =================================\n",
      " \n",
      "                              movie title  total_genres\n",
      "0                              Toy Story              3\n",
      "1                              GoldenEye              3\n",
      "2                             Four Rooms              1\n",
      "3                             Get Shorty              3\n",
      "4                                Copycat              3\n",
      "...                                   ...           ...\n",
      "1676                          Mat' i syn              1\n",
      "1677                           B. Monkey              2\n",
      "1678                       Sliding Doors              2\n",
      "1679                        You So Crazy              1\n",
      "1680  Scream of Stone (Schrei aus Stein)              1\n",
      "\n",
      "[1681 rows x 2 columns]\n",
      " \n",
      "=========================== Total movies with more than one Genre =====================\n",
      " \n",
      "Total movies with more than one Genre 849\n",
      " \n",
      "=======================================================================================\n"
     ]
    }
   ],
   "source": [
    "#create a copy to manipulate the data\n",
    "multiGenreMovies = df_movie.copy()\n",
    "\n",
    "col_list = list(multiGenreMovies) # pull all columns of original dataframe in to a list\n",
    "\n",
    "col_list.remove('movie id') # remove columns that should not be part of sum\n",
    "col_list.remove('movie title') # remove columns that should not be part of sum\n",
    "col_list.remove('release date') # remove columns that should not be part of sum\n",
    "\n",
    "multiGenreMovies['total_genres'] = df_movie[col_list].sum(axis=1)\n",
    "\n",
    "# Display movie name, number of genres for the movie in dataframe\n",
    "\n",
    "print(\"============================ Movie title & its genres =================================\")\n",
    "print(\" \")\n",
    "print(multiGenreMovies[['movie title', 'total_genres']])\n",
    "print(\" \")\n",
    "\n",
    "# create a new data framw with total genres more than 1\n",
    "df = multiGenreMovies[multiGenreMovies['total_genres']>1]\n",
    "\n",
    "#convert the movie title in to a list to display list of movies that has more than one genre\n",
    "movie_list = list(df['movie title'])\n",
    "\n",
    "# print(total number of movies which have more than one genres)\n",
    "total_movies_multigenre = len(movie_list)\n",
    "\n",
    "print(\"=========================== Total movies with more than one Genre =====================\")\n",
    "print(\" \")\n",
    "print(\"Total movies with more than one Genre\",total_movies_multigenre)\n",
    "print(\" \")\n",
    "print(\"=======================================================================================\")\n",
    "\n",
    "#drop the column to avoid double counting next time.\n",
    "multiGenreMovies.drop(['total_genres'],axis=1,inplace=True)"
   ]
  },
  {
   "cell_type": "markdown",
   "metadata": {},
   "source": [
    "### 7. Univariate plots of columns: 'rating', 'Age', 'release year', 'Gender' and 'Occupation' - 10 marks\n",
    "\n",
    "*HINT: Use distplot for age. Use lineplot or countplot for release year.*\n",
    "\n",
    "*HINT: Plot percentages in y-axis and categories in x-axis for ratings, gender and occupation*\n",
    "\n",
    "*HINT: Please refer to the below snippet to understand how to get to release year from release date. You can use str.split() as depicted below or you could convert it to pandas datetime format and extract year (.dt.year)*"
   ]
  },
  {
   "cell_type": "code",
   "execution_count": 414,
   "metadata": {},
   "outputs": [
    {
     "data": {
      "image/png": "[encoded data removed]",
      "text/plain": [
       "<Figure size 432x288 with 1 Axes>"
      ]
     },
     "metadata": {
      "needs_background": "light"
     },
     "output_type": "display_data"
    }
   ],
   "source": [
    "#Univariate plots of columns: 'Age'\n",
    "\n",
    "sns.distplot(df_user['age']);"
   ]
  },
  {
   "cell_type": "code",
   "execution_count": 415,
   "metadata": {},
   "outputs": [
    {
     "data": {
      "image/png": "[encoded data removed]",
      "text/plain": [
       "<Figure size 1080x1440 with 1 Axes>"
      ]
     },
     "metadata": {
      "needs_background": "light"
     },
     "output_type": "display_data"
    }
   ],
   "source": [
    "#Univariate plots of columns: 'release year'\n",
    "\n",
    "date['release'] = pd.to_datetime(df_movie['release date']);\n",
    "date['year'] = date['release'].dt.year\n",
    "\n",
    "plt.figure(figsize=(15,20)) \n",
    "sns.countplot(y=date['year']);"
   ]
  },
  {
   "cell_type": "code",
   "execution_count": 416,
   "metadata": {},
   "outputs": [
    {
     "data": {
      "text/plain": [
       "<matplotlib.axes._subplots.AxesSubplot at 0x1f4c78f5580>"
      ]
     },
     "execution_count": 416,
     "metadata": {},
     "output_type": "execute_result"
    },
    {
     "data": {
      "image/png": "[encoded data removed]",
      "text/plain": [
       "<Figure size 360x360 with 1 Axes>"
      ]
     },
     "metadata": {
      "needs_background": "light"
     },
     "output_type": "display_data"
    }
   ],
   "source": [
    "#Univariate plots of columns: 'gender'\n",
    "\n",
    "plt.figure(figsize=(5,5)) \n",
    "\n",
    "df1 = df_user.copy()\n",
    "df1['value'] = 1\n",
    "\n",
    "tempdf=df1.groupby(['gender','value']).value.count().unstack().fillna(0)\n",
    "tempdf['total']=df1['gender'].value_counts()\n",
    "tempdf['percent']=tempdf['total']/len(df1)*100\n",
    "\n",
    "tempdf.reset_index(inplace=True)\n",
    "\n",
    "sns.barplot(x='gender',y='percent',data=tempdf)"
   ]
  },
  {
   "cell_type": "code",
   "execution_count": 417,
   "metadata": {},
   "outputs": [
    {
     "data": {
      "text/plain": [
       "[Text(0, 0.5, 'Percent')]"
      ]
     },
     "execution_count": 417,
     "metadata": {},
     "output_type": "execute_result"
    },
    {
     "data": {
      "image/png": "[encoded data removed]",
      "text/plain": [
       "<Figure size 1656x360 with 1 Axes>"
      ]
     },
     "metadata": {
      "needs_background": "light"
     },
     "output_type": "display_data"
    }
   ],
   "source": [
    "#Univariate plots of columns: 'occupation'\n",
    "\n",
    "plt.figure(figsize=(23,5)) \n",
    "\n",
    "tempdf=df1.groupby(['occupation','value']).value.count().unstack().fillna(0)\n",
    "tempdf['total_occ']=df1['occupation'].value_counts()\n",
    "tempdf['percent_occ']=tempdf['total_occ']/len(df1)*100\n",
    "\n",
    "tempdf.reset_index(inplace=True)\n",
    "#print(tempdf);\n",
    "\n",
    "ax = sns.barplot(x='occupation',y='percent_occ',data=tempdf)\n",
    "ax.set(ylabel=\"Percent\")"
   ]
  },
  {
   "cell_type": "code",
   "execution_count": 425,
   "metadata": {},
   "outputs": [
    {
     "data": {
      "text/plain": [
       "[Text(0, 0.5, 'Percent')]"
      ]
     },
     "execution_count": 425,
     "metadata": {},
     "output_type": "execute_result"
    },
    {
     "data": {
      "image/png": "[encoded data removed]",
      "text/plain": [
       "<Figure size 720x360 with 1 Axes>"
      ]
     },
     "metadata": {
      "needs_background": "light"
     },
     "output_type": "display_data"
    }
   ],
   "source": [
    "#Univariate plots of columns: 'rating'\n",
    "\n",
    "df2 = df_ratings.copy()\n",
    "df2['value'] = 1\n",
    "\n",
    "tempr=df2.groupby(['rating','value']).value.count().unstack().fillna(0)\n",
    "tempr['total']=df2['rating'].value_counts()\n",
    "tempr['percent']=tempr['total']/len(df2)*100\n",
    "\n",
    "tempr.reset_index(inplace=True)\n",
    "#print(tempr);\n",
    "\n",
    "plt.figure(figsize=(10,5)) \n",
    "ax = sns.barplot(x='rating',y='percent',data=tempr)\n",
    "ax.set(ylabel=\"Percent\")"
   ]
  },
  {
   "cell_type": "markdown",
   "metadata": {},
   "source": [
    "### 8. Visualize how popularity of genres has changed over the years - 10 marks\n",
    "\n",
    "Note that you need to use the **percent of number of releases in a year** as a parameter of popularity of a genre\n",
    "\n",
    "Hint 1: You need to reach to a data frame where the release year is the index and the genre is the column names (one cell shows the number of release in a year in one genre) or vice versa. (Drop unnecessary column if there are any)\n",
    "\n",
    "Hint 2: Find the total number of movies release in a year(use `sum(axis=1)` store that value in a new column as 'total'). Now divide the value of each genre in that year by total to get percentage number of release in a particular year.\n",
    "`(df.div(df['total'], axis= 0) * 100)`\n",
    "\n",
    "Once that is achieved, you can either use univariate plots or can use the heatmap to visualise all the changes over the years \n",
    "in one go. \n",
    "\n",
    "Hint 3: Use groupby on the relevant column and use sum() on the same to find out the number of releases in a year/genre.  "
   ]
  },
  {
   "cell_type": "code",
   "execution_count": 430,
   "metadata": {},
   "outputs": [
    {
     "data": {
      "text/plain": [
       "<matplotlib.axes._subplots.AxesSubplot at 0x1f4c924f370>"
      ]
     },
     "execution_count": 430,
     "metadata": {},
     "output_type": "execute_result"
    },
    {
     "data": {
      "image/png": "[encoded data removed]",
      "text/plain": [
       "<Figure size 1080x1080 with 2 Axes>"
      ]
     },
     "metadata": {
      "needs_background": "light"
     },
     "output_type": "display_data"
    }
   ],
   "source": [
    "q8 = df_movie.copy()\n",
    "q8['release'] = pd.to_datetime(q8['release date']);\n",
    "q8['year'] = q8['release'].dt.year\n",
    "\n",
    "q8.drop(['movie id'],axis=1,inplace=True)\n",
    "q8.drop(['movie title'],axis=1,inplace=True)\n",
    "q8.drop(['release date'],axis=1,inplace=True)\n",
    "q8.drop(['release'],axis=1,inplace=True)\n",
    "\n",
    "q8.set_index('year',inplace=True)\n",
    "\n",
    "q8 = q8.groupby(['year']).sum()\n",
    "\n",
    "#using the same col_list used to calculate the answer for multi genre film (question 6)\n",
    "\n",
    "q8['total'] = q8[col_list].sum(axis=1)\n",
    "\n",
    "#print(q8)\n",
    "\n",
    "q8 = (q8.loc[:,\"unknown\":\"Western\"].div(q8[\"total\"],axis=0)*100)\n",
    "\n",
    "#print(q8)\n",
    "\n",
    "plt.figure(figsize=(15,15)) \n",
    "\n",
    "sns.heatmap(q8, cmap=\"YlGnBu\") #assign max value of 170 as it is max individual genre total\n",
    "\n",
    "# sns.heatmap(q8, cmap=\"YlGnBu\", vmin=0, vmax=170, annot=True, fmt=\"d\")  #adding annot to see values for max value"
   ]
  },
  {
   "cell_type": "markdown",
   "metadata": {},
   "source": [
    "### 9. Find the top 25 movies according to average ratings such that each movie has number of ratings more than 100 - 10 marks\n",
    "\n",
    "Hints : \n",
    "\n",
    "1. Find the count of ratings and average ratings for every movie.\n",
    "2. Slice the movies which have ratings more than 100.\n",
    "3. Sort values according to average rating such that movie which highest rating is on top.\n",
    "4. Select top 25 movies.\n",
    "5. You will have to use the .merge() function to get the movie titles.\n",
    "\n",
    "Note: This question will need you to research about groupby and apply your findings. You can find more on groupby on https://realpython.com/pandas-groupby/."
   ]
  },
  {
   "cell_type": "code",
   "execution_count": 438,
   "metadata": {},
   "outputs": [
    {
     "name": "stdout",
     "output_type": "stream",
     "text": [
      "          user id\n",
      "movie id         \n",
      "1             452\n",
      "2             131\n",
      "3              90\n",
      "4             209\n",
      "5              86\n",
      "...           ...\n",
      "1678            1\n",
      "1679            1\n",
      "1680            1\n",
      "1681            1\n",
      "1682            1\n",
      "\n",
      "[1682 rows x 1 columns]\n",
      "          user id\n",
      "movie id         \n",
      "1             452\n",
      "2             131\n",
      "3              90\n",
      "4             209\n",
      "5              86\n",
      "...           ...\n",
      "1678            1\n",
      "1679            1\n",
      "1680            1\n",
      "1681            1\n",
      "1682            1\n",
      "\n",
      "[1682 rows x 1 columns]\n",
      "================================================ Top 25 Movie Names ===================================================\n",
      " \n",
      "['Star Wars ', 'Contact ', 'Fargo ', 'Return of the Jedi ', 'Liar Liar ', 'English Patient, The ', 'Scream ', 'Toy Story ', 'Air Force One ', 'Independence Day (ID4) ', 'Raiders of the Lost Ark ', 'Godfather, The ', 'Pulp Fiction ', 'Twelve Monkeys ', 'Silence of the Lambs, The ', 'Jerry Maguire ', 'Rock, The ', 'Empire Strikes Back, The ', 'Star Trek: First Contact ', 'Titanic ', 'Back to the Future ', 'Mission: Impossible ', 'Fugitive, The ', 'Indiana Jones and the Last Crusade ', 'Willy Wonka and the Chocolate Factory ']\n",
      "=======================================================================================================================\n"
     ]
    }
   ],
   "source": [
    "#Find the count of ratings and average ratings for every movie.\n",
    "\n",
    "q9 = df_ratings.copy()\n",
    "\n",
    "q9_temp1 = q9[['user id','movie id']]\n",
    "q9_count = q9_temp1.groupby(['movie id']).count() # count number of rating for each movie\n",
    "\n",
    "print(q9_count)\n",
    "\n",
    "q9_temp2 = q9[['movie id','rating']]\n",
    "q9_average = q9_temp2.groupby(['movie id']).mean() # AVERAGE rating for each movie\n",
    "\n",
    "q9_100plus = q9_count[q9_count['user id']>100] #movies rating with more than 100 users\n",
    "q9_100plus = q9_100plus.sort_values(by=['user id'], ascending=False) # sort descending based on the user rating\n",
    "\n",
    "q9_100plus_top25 = q9_100plus.head(25)\n",
    "\n",
    "print(q9_count)\n",
    "\n",
    "q9_100plus_top25_merge = q9_100plus_top25.merge(df_movie, how=\"left\", left_on='movie id', right_on='movie id')\n",
    "\n",
    "q9_100plus_top25_moviename = list(q9_100plus_top25_merge['movie title'])\n",
    "\n",
    "print(\"================================================ Top 25 Movie Names ===================================================\")\n",
    "print(\" \")\n",
    "print(q9_100plus_top25_moviename)\n",
    "print(\"=======================================================================================================================\")"
   ]
  },
  {
   "cell_type": "markdown",
   "metadata": {},
   "source": [
    "### 10. See gender distribution across different genres check for the validity of the below statements - 10 marks\n",
    "\n",
    "* Men watch more drama than women\n",
    "* Women watch more Sci-Fi than men\n",
    "* Men watch more Romance than women\n",
    "\n",
    "**compare the percentages**"
   ]
  },
  {
   "cell_type": "markdown",
   "metadata": {},
   "source": [
    "1. Merge all the datasets\n",
    "\n",
    "2. There is no need to conduct statistical tests around this. Just **compare the percentages** and comment on the validity of the above statements.\n",
    "\n",
    "3. you might want ot use the .sum(), .div() function here.\n",
    "\n",
    "4. Use number of ratings to validate the numbers. For example, if out of 4000 ratings received by women, 3000 are for drama, we will assume that 75% of the women watch drama."
   ]
  },
  {
   "cell_type": "code",
   "execution_count": 421,
   "metadata": {},
   "outputs": [
    {
     "name": "stdout",
     "output_type": "stream",
     "text": [
      "======================================== Total Movies by Genre - Drama ======================================\n",
      " \n",
      "          Drama\n",
      "gender         \n",
      "F       11008.0\n",
      "M       28887.0\n",
      " \n",
      " Answer to Question 1 - Men watch more drama than women? - is TRUE since men watch more dramas than woman\n",
      " \n",
      "=============================================================================================================\n"
     ]
    }
   ],
   "source": [
    "# merge ratings with user\n",
    "\n",
    "rating_user_merge = df_user.merge(df_ratings, left_on='user id',right_on='user id')\n",
    "\n",
    "#rating_user_merge\n",
    "\n",
    "all_merge = rating_user_merge.merge(df_movie,how=\"outer\",left_on='movie id',right_on='movie id')\n",
    "\n",
    "# remove columns that are of importance to us\n",
    "\n",
    "q10_a = all_merge[['user id','gender','Drama']]\n",
    "\n",
    "# group by user id to remove duplicates\n",
    "\n",
    "q10_a1 = q10_a.groupby(['user id']).sum()\n",
    "\n",
    "#merge the user db to newly duplicates removed dataframe\n",
    "\n",
    "q10_a1_merge = q10_a1.merge(df_user,left_on='user id',right_on='user id')\n",
    "\n",
    "# slice only the most important information since each row is unique\n",
    "q10_a1_merge_slice = q10_a1_merge[['gender','Drama']]\n",
    "\n",
    "# Look at how many movies each group saw in Drama genre\n",
    "q10_a1_merge_group = q10_a1_merge_slice.groupby(['gender']).sum()\n",
    "\n",
    "print(\"======================================== Total Movies by Genre - Drama ======================================\")\n",
    "print(\" \")\n",
    "print(q10_a1_merge_group)\n",
    "print(\" \")\n",
    "print(\" Answer to Question 1 - Men watch more drama than women? - is TRUE since men watch more dramas than woman\")\n",
    "print(\" \")\n",
    "print(\"=============================================================================================================\")\n",
    "\n"
   ]
  },
  {
   "cell_type": "code",
   "execution_count": 422,
   "metadata": {},
   "outputs": [
    {
     "name": "stdout",
     "output_type": "stream",
     "text": [
      "======================================== Total Movies by Genre - Sci-Fi ======================================\n",
      " \n",
      "         Sci-Fi\n",
      "gender         \n",
      "F        2629.0\n",
      "M       10101.0\n",
      " \n",
      " Answer to Question 2 - Women watch more Sci-Fi than men? - is False since men watch more Sci-Fi than woman\n",
      " \n",
      "==============================================================================================================\n"
     ]
    }
   ],
   "source": [
    "# remove columns that are of importance to us\n",
    "\n",
    "q10_b = all_merge[['user id','gender','Sci-Fi']]\n",
    "\n",
    "# group by user id to remove duplicates\n",
    "\n",
    "q10_b1 = q10_b.groupby(['user id']).sum()\n",
    "\n",
    "#merge the user db to newly duplicates removed dataframe\n",
    "\n",
    "q10_b1_merge = q10_b1.merge(df_user,left_on='user id',right_on='user id')\n",
    "\n",
    "# slice only the most important information since each row is unique\n",
    "\n",
    "q10_b1_merge_slice = q10_b1_merge[['gender','Sci-Fi']]\n",
    "\n",
    "# Look at how many movies each group saw in Drama genre\n",
    "\n",
    "q10_b1_merge_group = q10_b1_merge_slice.groupby(['gender']).sum()\n",
    "\n",
    "q10_b1_merge_group\n",
    "\n",
    "print(\"======================================== Total Movies by Genre - Sci-Fi ======================================\")\n",
    "print(\" \")\n",
    "print(q10_b1_merge_group)\n",
    "print(\" \")\n",
    "print(\" Answer to Question 2 - Women watch more Sci-Fi than men? - is False since men watch more Sci-Fi than woman\")\n",
    "print(\" \")\n",
    "print(\"==============================================================================================================\")"
   ]
  },
  {
   "cell_type": "code",
   "execution_count": 423,
   "metadata": {},
   "outputs": [
    {
     "name": "stdout",
     "output_type": "stream",
     "text": [
      "======================================== Total Movies by Genre - Romance ======================================\n",
      " \n",
      "        Romance\n",
      "gender         \n",
      "F        5858.0\n",
      "M       13603.0\n",
      " \n",
      " Answer to Question 3 - Men watch more Romance than women? - is True since men watch more romance than woman\n",
      " \n",
      "==============================================================================================================\n"
     ]
    }
   ],
   "source": [
    "# remove columns that are of importance to us\n",
    "\n",
    "q10_c = all_merge[['user id','gender','Romance']]\n",
    "\n",
    "# group by user id to remove duplicates\n",
    "\n",
    "q10_c1 = q10_c.groupby(['user id']).sum()\n",
    "\n",
    "#merge the user db to newly duplicates removed dataframe\n",
    "\n",
    "q10_c1_merge = q10_c1.merge(df_user,left_on='user id',right_on='user id')\n",
    "\n",
    "# slice only the most important information since each row is unique\n",
    "\n",
    "q10_c1_merge_slice = q10_c1_merge[['gender','Romance']]\n",
    "\n",
    "# Look at how many movies each group saw in Drama genre\n",
    "\n",
    "q10_c1_merge_group = q10_c1_merge_slice.groupby(['gender']).sum()\n",
    "\n",
    "q10_c1_merge_group\n",
    "\n",
    "print(\"======================================== Total Movies by Genre - Romance ======================================\")\n",
    "print(\" \")\n",
    "print(q10_c1_merge_group)\n",
    "print(\" \")\n",
    "print(\" Answer to Question 3 - Men watch more Romance than women? - is True since men watch more romance than woman\")\n",
    "print(\" \")\n",
    "print(\"==============================================================================================================\")"
   ]
  },
  {
   "cell_type": "code",
   "execution_count": null,
   "metadata": {},
   "outputs": [],
   "source": []
  }
 ],
 "metadata": {
  "kernelspec": {
   "display_name": "Python 3",
   "language": "python",
   "name": "python3"
  },
  "language_info": {
   "codemirror_mode": {
    "name": "ipython",
    "version": 3
   },
   "file_extension": ".py",
   "mimetype": "text/x-python",
   "name": "python",
   "nbconvert_exporter": "python",
   "pygments_lexer": "ipython3",
   "version": "3.8.3"
  }
 },
 "nbformat": 4,
 "nbformat_minor": 2
}
